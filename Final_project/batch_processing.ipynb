{
 "cells": [
  {
   "cell_type": "code",
   "execution_count": null,
   "id": "43047cab-f68a-41f0-ba3c-b63234f95001",
   "metadata": {},
   "outputs": [],
   "source": [
    "from pyspark.sql import SparkSession\n",
    "from pyspark.sql.functions import * \n",
    "import pyspark.sql.types as T\n",
    "\n",
    "from pyspark.ml.feature import Tokenizer, HashingTF, IDF\n",
    "from pyspark.ml.classification import DecisionTreeClassifier,NaiveBayes,LogisticRegression\n",
    "from pyspark.ml.evaluation import MulticlassClassificationEvaluator\n",
    "\n",
    "from pyspark.ml import PipelineModel\n",
    "from pyspark.ml import Pipeline\n",
    "from pyspark.ml.feature import RegexTokenizer, StopWordsRemover, CountVectorizer\n",
    "from pyspark.ml.classification import LogisticRegression\n",
    "from pyspark.ml.feature import NGram,OneHotEncoder, StringIndexer, VectorAssembler"
   ]
  },
  {
   "cell_type": "code",
   "execution_count": null,
   "id": "9d370b4b-4e1c-48ba-b63e-ccf100978ff7",
   "metadata": {},
   "outputs": [],
   "source": [
    "from pyspark.ml.stat import Correlation\n",
    "from pyspark.ml import PipelineModel\n",
    "from pyspark.ml import Pipeline\n",
    "from pyspark.ml.feature import RegexTokenizer, StopWordsRemover, CountVectorizer\n",
    "from pyspark.ml.classification import LogisticRegression\n",
    "from pyspark.ml.feature import NGram,OneHotEncoder, StringIndexer, VectorAssembler\n",
    "from itertools import combinations\n",
    "import sparknlp"
   ]
  },
  {
   "cell_type": "code",
   "execution_count": null,
   "id": "206c3084-e3a7-4d01-b8b5-af1ed89fb63b",
   "metadata": {},
   "outputs": [],
   "source": [
    "spark = sparknlp.start()"
   ]
  },
  {
   "cell_type": "code",
   "execution_count": null,
   "id": "4d8a08bb-22dd-4106-8e2a-71aed98b280e",
   "metadata": {},
   "outputs": [],
   "source": [
    "df = spark.read.csv(\"gs://bdl2023-final-proj/YELP_train.csv\")"
   ]
  },
  {
   "cell_type": "code",
   "execution_count": null,
   "id": "339f6749-cde1-4e44-af68-727c12e508cc",
   "metadata": {},
   "outputs": [],
   "source": [
    "df = df.withColumn(\"_c1\", col(\"_c1\").cast(\"int\"))\n",
    "df = df.withColumn(\"_c3\", col(\"_c3\").cast(\"int\"))\n",
    "df = df.withColumn(\"_c5\", col(\"_c5\").cast(\"int\"))\n",
    "df = df.withColumn(\"_c7\", col(\"_c7\").cast(\"int\"))"
   ]
  },
  {
   "cell_type": "code",
   "execution_count": null,
   "id": "8630a279-c4fc-4327-a95a-f2c9bee365aa",
   "metadata": {},
   "outputs": [],
   "source": [
    "df.show(5)"
   ]
  },
  {
   "cell_type": "code",
   "execution_count": null,
   "id": "bb635646-5669-4d8e-931d-5d87634094cb",
   "metadata": {},
   "outputs": [],
   "source": [
    "df = df.dropna(subset = ['_c5'])\n",
    "df = df.dropna(subset = ['_c6'])\n",
    "df = df.drop('_c0','_c4','_c8')"
   ]
  },
  {
   "cell_type": "code",
   "execution_count": null,
   "id": "98b4d6a2-7b09-4fb9-b2d7-dff99ccdc97f",
   "metadata": {},
   "outputs": [],
   "source": [
    "# !pip install tabulate"
   ]
  },
  {
   "cell_type": "code",
   "execution_count": null,
   "id": "c5dec53d-37a5-4f8c-aae0-8170270a10fc",
   "metadata": {},
   "outputs": [],
   "source": [
    "df = df.withColumn(\"_c2\", to_timestamp(\"_c2\", \"yyyy-MM-dd HH:mm:ss\"))"
   ]
  },
  {
   "cell_type": "code",
   "execution_count": null,
   "id": "b68c9c93-f635-41db-85fb-d1e7f57a8cb7",
   "metadata": {},
   "outputs": [],
   "source": [
    "df = df.withColumn(\"hour\", hour(\"_c2\"))\n",
    "df = df.withColumn(\"category\", when((df.hour >= 6) & (df.hour < 12), \"morning\")\n",
    "                           .when((df.hour >= 12) & (df.hour < 18), \"afternoon\")\n",
    "                           .when((df.hour >= 18) & (df.hour < 22), \"evening\")\n",
    "                           .otherwise(\"night\"))\n",
    "\n",
    "# drop \"hour\" column\n",
    "df = df.drop(\"hour\")"
   ]
  },
  {
   "cell_type": "code",
   "execution_count": null,
   "id": "7bd32c9c-6b62-4634-9272-da81f74571d6",
   "metadata": {},
   "outputs": [],
   "source": [
    "df = df.withColumn(\"year\", year(\"_c2\"))\n",
    "df = df.withColumn(\"day_of_week\", dayofweek(df._c2))"
   ]
  },
  {
   "cell_type": "code",
   "execution_count": null,
   "id": "c3a4a1f2-4183-48ea-ac3e-9cc8917cb97d",
   "metadata": {},
   "outputs": [],
   "source": [
    "# df.dtypes"
   ]
  },
  {
   "cell_type": "code",
   "execution_count": null,
   "id": "b2b046aa-c007-4a5d-8ace-b69a4fdada9b",
   "metadata": {},
   "outputs": [],
   "source": [
    "df = df.drop('weekday')\n",
    "df = df.withColumn(\"is_weekend\", when((df.day_of_week == 1) | (df.day_of_week == 7), 1)\n",
    "                           .otherwise(0))"
   ]
  },
  {
   "cell_type": "code",
   "execution_count": null,
   "id": "fdb27495-744e-4c72-92ae-3f9224e83787",
   "metadata": {},
   "outputs": [],
   "source": [
    "indexer_day = StringIndexer(inputCol=\"category\", outputCol=\"part_of_day\")\n",
    "df = indexer_day.fit(df).transform(df)"
   ]
  },
  {
   "cell_type": "code",
   "execution_count": null,
   "id": "54831be9-75ec-4383-903a-5535c8756de3",
   "metadata": {},
   "outputs": [],
   "source": [
    "df = df.withColumn(\"month\", month(\"_c2\"))\n",
    "\n",
    "df = df.drop('_c2')\n",
    "df = df.drop('category')"
   ]
  },
  {
   "cell_type": "code",
   "execution_count": null,
   "id": "5b0ff3b4-28a3-4022-9722-aa2e0e0cb877",
   "metadata": {},
   "outputs": [],
   "source": [
    "df = df.withColumnRenamed('_c5','rating')\n",
    "df = df.withColumnRenamed('_c6','review')"
   ]
  },
  {
   "cell_type": "code",
   "execution_count": null,
   "id": "9d0cff77-1cb0-4338-9b24-89883803e07b",
   "metadata": {},
   "outputs": [],
   "source": [
    "for col_name in df.columns:\n",
    "    try:\n",
    "        median_value = df.approxQuantile(col_name, [0.5], 0.01)[0]\n",
    "        df = df.fillna(median_value, subset=[col_name])\n",
    "    except:\n",
    "        pass"
   ]
  },
  {
   "cell_type": "code",
   "execution_count": null,
   "id": "3a213104-9efd-4cad-a387-d34ab45a9559",
   "metadata": {},
   "outputs": [],
   "source": [
    "df = df.filter(col('rating')>=0)\n",
    "df = df.filter(col('rating')<=5)\n",
    "\n",
    "df = df.filter(col('_c1')>=0)\n",
    "df = df.filter(col('_c3')>=0)\n",
    "df = df.filter(col('_c7')>=0)"
   ]
  },
  {
   "cell_type": "code",
   "execution_count": null,
   "id": "ccc296f5-44f3-4da4-99d0-3e7e169f61ee",
   "metadata": {},
   "outputs": [],
   "source": [
    "df.show()"
   ]
  },
  {
   "cell_type": "code",
   "execution_count": null,
   "id": "8d02ac1e-cf35-48b8-b58e-8223b24a9a85",
   "metadata": {},
   "outputs": [],
   "source": [
    "df.write.format('csv').mode('overwrite').option(\"header\", \"true\").save('gs://final_2023_project/data_final.csv')"
   ]
  },
  {
   "cell_type": "code",
   "execution_count": null,
   "id": "bb187208-4092-4310-bda3-a2d5ccd4626e",
   "metadata": {},
   "outputs": [],
   "source": [
    "model = PipelineModel.load('gs://project_2023/tfidf_model')"
   ]
  },
  {
   "cell_type": "code",
   "execution_count": null,
   "id": "497fd709-eee0-46dc-b1e6-1292a251644f",
   "metadata": {},
   "outputs": [],
   "source": [
    "df = df.withColumn(\"_c1\", col(\"_c1\").cast(\"int\"))\n",
    "df = df.withColumn(\"_c3\", col(\"_c3\").cast(\"int\"))\n",
    "df = df.withColumn(\"rating\", col(\"rating\").cast(\"double\"))\n",
    "df = df.withColumn(\"_c7\", col(\"_c7\").cast(\"int\"))\n",
    "df = df.withColumn(\"year\", col(\"year\").cast(\"int\"))\n",
    "df = df.withColumn(\"day_of_week\", col(\"day_of_week\").cast(\"int\"))\n",
    "df = df.withColumn(\"is_weekend\", col(\"is_weekend\").cast(\"int\"))\n",
    "df = df.withColumn(\"part_of_day\", col(\"part_of_day\").cast(\"int\"))\n",
    "df = df.withColumn(\"month\", col(\"month\").cast(\"int\"))"
   ]
  },
  {
   "cell_type": "code",
   "execution_count": null,
   "id": "a9f32043-2ff7-447d-ad92-3e29a6790e09",
   "metadata": {},
   "outputs": [],
   "source": [
    "processed_df = model.transform(df)"
   ]
  },
  {
   "cell_type": "code",
   "execution_count": null,
   "id": "60b007d9-9c31-494d-8c44-cd4a2f1a2750",
   "metadata": {},
   "outputs": [],
   "source": [
    "processed_df.show(5)"
   ]
  },
  {
   "cell_type": "code",
   "execution_count": null,
   "id": "c619a59f-b091-4180-97ad-c2df8ac39b5a",
   "metadata": {},
   "outputs": [],
   "source": [
    "feature_cols = processed_df.drop('review','to_spark','filtered','raw_features','rating').columns"
   ]
  },
  {
   "cell_type": "code",
   "execution_count": null,
   "id": "34d31cab-1d7f-4e2f-b551-32bc062fac31",
   "metadata": {},
   "outputs": [],
   "source": [
    "pipeline_nb_fit = PipelineModel.load('gs://project_2023/nb_model')"
   ]
  },
  {
   "cell_type": "code",
   "execution_count": null,
   "id": "d6942819-b5fa-4a56-8069-acc283be4e8e",
   "metadata": {},
   "outputs": [],
   "source": [
    "evaluator = MulticlassClassificationEvaluator(predictionCol = \"prediction\",labelCol=\"rating\")\n",
    "prediction = pipeline_nb_fit.transform(processed_df)\n",
    "prediction.select(\"prediction\", \"rating\").show(5)\n",
    "print(\"Evaluating on training data using NB classifier (f1 score):\", evaluator.evaluate(prediction, {evaluator.metricName: \"f1\"}))\n",
    "print(\"Evaluating on training data using NB classifier (Accuracy):\", evaluator.evaluate(prediction, {evaluator.metricName: \"accuracy\"}))"
   ]
  },
  {
   "cell_type": "code",
   "execution_count": null,
   "id": "8a2cb3bc-abc5-42c7-a8f8-86a4c9fc06d9",
   "metadata": {},
   "outputs": [],
   "source": []
  }
 ],
 "metadata": {
  "kernelspec": {
   "display_name": "Python 3 (ipykernel)",
   "language": "python",
   "name": "python3"
  },
  "language_info": {
   "codemirror_mode": {
    "name": "ipython",
    "version": 3
   },
   "file_extension": ".py",
   "mimetype": "text/x-python",
   "name": "python",
   "nbconvert_exporter": "python",
   "pygments_lexer": "ipython3",
   "version": "3.9.7"
  }
 },
 "nbformat": 4,
 "nbformat_minor": 5
}
