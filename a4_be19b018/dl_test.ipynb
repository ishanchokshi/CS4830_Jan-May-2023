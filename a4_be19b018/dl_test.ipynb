{
 "cells": [
  {
   "cell_type": "markdown",
   "metadata": {
    "id": "GbsxSSWua3qB"
   },
   "source": [
    "Install Dependencies and Import Required Packages"
   ]
  },
  {
   "cell_type": "code",
   "execution_count": 1,
   "metadata": {
    "colab": {
     "base_uri": "https://localhost:8080/"
    },
    "id": "dz907NVoTcok",
    "outputId": "d57edc84-2fbe-4075-8ac5-78148a8441a4"
   },
   "outputs": [
    {
     "name": "stdout",
     "output_type": "stream",
     "text": [
      "[sudo] password for kankan: \n"
     ]
    }
   ],
   "source": [
    "# !sudo add-apt-repository ppa:openjdk-r/ppa\n",
    "#!sudo apt-get install openjdk-11-jdk\n",
    "# To Install Oracke JDK varsion 8\n",
    "# !sudo add-apt-repository ppa:webupd8team/java\n",
    "# !sudo apt-get install oracle-java8-installer"
   ]
  },
  {
   "cell_type": "code",
   "execution_count": 2,
   "metadata": {
    "colab": {
     "base_uri": "https://localhost:8080/"
    },
    "id": "GHCE-bUl_5YT",
    "outputId": "45682eb0-d864-49e6-ea52-0c2e6be0995a"
   },
   "outputs": [
    {
     "name": "stdout",
     "output_type": "stream",
     "text": [
      "Defaulting to user installation because normal site-packages is not writeable\n",
      "Collecting pyspark\n",
      "  Using cached pyspark-3.3.2.tar.gz (281.4 MB)\n",
      "  Preparing metadata (setup.py) ... \u001b[?25ldone\n",
      "\u001b[?25hCollecting py4j==0.10.9.5\n",
      "  Using cached py4j-0.10.9.5-py2.py3-none-any.whl (199 kB)\n",
      "Building wheels for collected packages: pyspark\n",
      "  Building wheel for pyspark (setup.py) ... \u001b[?25ldone\n",
      "\u001b[?25h  Created wheel for pyspark: filename=pyspark-3.3.2-py2.py3-none-any.whl size=281824021 sha256=f22da6ba3c22d2a73f5284668a32c3724af769bd0c974d323f79b23c4a8af4aa\n",
      "  Stored in directory: /home/kankan/.cache/pip/wheels/89/d6/52/1178e354ba2207673484f0ccd7b2ded0ab6671ae5c1fc5b49a\n",
      "Successfully built pyspark\n",
      "Installing collected packages: py4j, pyspark\n",
      "Successfully installed py4j-0.10.9.5 pyspark-3.3.2\n",
      "Defaulting to user installation because normal site-packages is not writeable\n",
      "Collecting pyarrow\n",
      "  Downloading pyarrow-11.0.0-cp310-cp310-manylinux_2_17_x86_64.manylinux2014_x86_64.whl (34.9 MB)\n",
      "\u001b[2K     \u001b[38;2;114;156;31m━━━━━━━━━━━━━━━━━━━━━━━━━━━━━━━━━━━━━━━━\u001b[0m \u001b[32m34.9/34.9 MB\u001b[0m \u001b[31m1.9 MB/s\u001b[0m eta \u001b[36m0:00:00\u001b[0mm eta \u001b[36m0:00:01\u001b[0m[36m0:00:01\u001b[0mm\n",
      "\u001b[?25hCollecting numpy>=1.16.6\n",
      "  Downloading numpy-1.24.2-cp310-cp310-manylinux_2_17_x86_64.manylinux2014_x86_64.whl (17.3 MB)\n",
      "\u001b[2K     \u001b[38;2;114;156;31m━━━━━━━━━━━━━━━━━━━━━━━━━━━━━━━━━━━━━━━━\u001b[0m \u001b[32m17.3/17.3 MB\u001b[0m \u001b[31m1.4 MB/s\u001b[0m eta \u001b[36m0:00:00\u001b[0mm eta \u001b[36m0:00:01\u001b[0m[36m0:00:01\u001b[0m\n",
      "\u001b[?25hInstalling collected packages: numpy, pyarrow\n",
      "Successfully installed numpy-1.24.2 pyarrow-11.0.0\n",
      "Defaulting to user installation because normal site-packages is not writeable\n",
      "Collecting tf-estimator-nightly==2.8.0.dev2021122109\n",
      "  Downloading tf_estimator_nightly-2.8.0.dev2021122109-py2.py3-none-any.whl (462 kB)\n",
      "\u001b[2K     \u001b[38;2;114;156;31m━━━━━━━━━━━━━━━━━━━━━━━━━━━━━━━━━━━━━\u001b[0m \u001b[32m462.5/462.5 KB\u001b[0m \u001b[31m950.4 kB/s\u001b[0m eta \u001b[36m0:00:00\u001b[0mm eta \u001b[36m0:00:01\u001b[0m0:01\u001b[0m:01\u001b[0m\n",
      "\u001b[?25hInstalling collected packages: tf-estimator-nightly\n",
      "Successfully installed tf-estimator-nightly-2.8.0.dev2021122109\n"
     ]
    }
   ],
   "source": [
    "# !wget -q https://downloads.apache.org/spark/spark-3.1.1/spark-3.1.1-bin-hadoop3.2.tgz\n",
    "# !tar xvzf spark-3.1.1-bin-hadoop3.2.tgz\n",
    "!pip install pyspark\n",
    "!pip install -q findspark\n",
    "!pip install pyarrow\n",
    "try:\n",
    "  # %tensorflow_version only exists in Colab.\n",
    "  !pip install  tf-estimator-nightly==2.8.0.dev2021122109\n",
    "except Exception:\n",
    "  pass"
   ]
  },
  {
   "cell_type": "code",
   "execution_count": 3,
   "metadata": {
    "id": "PyFhdHcmFlQg"
   },
   "outputs": [],
   "source": [
    "import os\n",
    "os.environ[\"JAVA_HOME\"] = \"/usr/lib/jvm/java-11-openjdk-amd64\"\n",
    "# os.environ[\"SPARK_HOME\"] = \"/content/spark-3.2.1\"\n"
   ]
  },
  {
   "cell_type": "code",
   "execution_count": 4,
   "metadata": {
    "id": "OVQK8VGjl_jG"
   },
   "outputs": [
    {
     "ename": "ModuleNotFoundError",
     "evalue": "No module named 'tensorflow'",
     "output_type": "error",
     "traceback": [
      "\u001b[0;31m---------------------------------------------------------------------------\u001b[0m",
      "\u001b[0;31mModuleNotFoundError\u001b[0m                       Traceback (most recent call last)",
      "Cell \u001b[0;32mIn[4], line 4\u001b[0m\n\u001b[1;32m      1\u001b[0m \u001b[38;5;28;01mfrom\u001b[39;00m \u001b[38;5;21;01mpyspark\u001b[39;00m\u001b[38;5;21;01m.\u001b[39;00m\u001b[38;5;21;01msql\u001b[39;00m\u001b[38;5;21;01m.\u001b[39;00m\u001b[38;5;21;01mfunctions\u001b[39;00m \u001b[38;5;28;01mimport\u001b[39;00m col, pandas_udf, regexp_extract\n\u001b[1;32m      2\u001b[0m \u001b[38;5;28;01mimport\u001b[39;00m \u001b[38;5;21;01mio\u001b[39;00m\n\u001b[0;32m----> 4\u001b[0m \u001b[38;5;28;01mfrom\u001b[39;00m \u001b[38;5;21;01mtensorflow\u001b[39;00m\u001b[38;5;21;01m.\u001b[39;00m\u001b[38;5;21;01mkeras\u001b[39;00m\u001b[38;5;21;01m.\u001b[39;00m\u001b[38;5;21;01mapplications\u001b[39;00m\u001b[38;5;21;01m.\u001b[39;00m\u001b[38;5;21;01mimagenet_utils\u001b[39;00m \u001b[38;5;28;01mimport\u001b[39;00m decode_predictions\n\u001b[1;32m      5\u001b[0m \u001b[38;5;28;01mimport\u001b[39;00m \u001b[38;5;21;01mpandas\u001b[39;00m \u001b[38;5;28;01mas\u001b[39;00m \u001b[38;5;21;01mpd\u001b[39;00m\n\u001b[1;32m      6\u001b[0m \u001b[38;5;28;01mfrom\u001b[39;00m \u001b[38;5;21;01mpyspark\u001b[39;00m\u001b[38;5;21;01m.\u001b[39;00m\u001b[38;5;21;01msql\u001b[39;00m\u001b[38;5;21;01m.\u001b[39;00m\u001b[38;5;21;01mfunctions\u001b[39;00m \u001b[38;5;28;01mimport\u001b[39;00m col, pandas_udf, PandasUDFType\n",
      "\u001b[0;31mModuleNotFoundError\u001b[0m: No module named 'tensorflow'"
     ]
    }
   ],
   "source": [
    "from pyspark.sql.functions import col, pandas_udf, regexp_extract\n",
    "import io\n",
    "\n",
    "from tensorflow.keras.applications.imagenet_utils import decode_predictions\n",
    "import pandas as pd\n",
    "from pyspark.sql.functions import col, pandas_udf, PandasUDFType\n",
    "\n",
    "import torch\n",
    "from torch.utils.data import Dataset, DataLoader\n",
    "from torchvision import models, transforms\n",
    "from PIL import Image\n",
    "\n",
    "from __future__ import absolute_import, division, print_function, unicode_literals\n",
    "import tensorflow as tf\n",
    "import pathlib\n",
    "import findspark\n",
    "from pyspark.sql import SparkSession\n",
    "import matplotlib.pyplot as plt \n",
    "\n",
    "\n",
    "findspark.init()\n",
    "spark = SparkSession.builder.master(\"local[*]\").getOrCreate()"
   ]
  },
  {
   "cell_type": "markdown",
   "metadata": {
    "id": "YWwR0qo5bqr6"
   },
   "source": [
    "Download the Public Dataset"
   ]
  },
  {
   "cell_type": "code",
   "execution_count": null,
   "metadata": {
    "colab": {
     "base_uri": "https://localhost:8080/"
    },
    "id": "h8Z7BchoXLDe",
    "outputId": "732a7099-1315-4e6f-fdf3-661d6ee0860c"
   },
   "outputs": [],
   "source": [
    "data_dir = tf.keras.utils.get_file(origin='https://storage.googleapis.com/download.tensorflow.org/example_images/flower_photos.tgz',\n",
    "                                         fname='flower_photos', untar=True)\n",
    "\n",
    "print(data_dir)"
   ]
  },
  {
   "cell_type": "markdown",
   "metadata": {
    "id": "twAETGtMcFAQ"
   },
   "source": [
    "Recursively Read all the Images from the Parent directory and create a DataFrame"
   ]
  },
  {
   "cell_type": "code",
   "execution_count": null,
   "metadata": {
    "colab": {
     "base_uri": "https://localhost:8080/"
    },
    "id": "8-Jh-li0V3al",
    "outputId": "a1d7fd7d-c7f9-4d87-dc4b-f36e893a2135"
   },
   "outputs": [],
   "source": [
    "images = spark.read.format(\"binaryFile\").option(\"recursiveFileLookup\", \"true\").option(\"pathGlobFilter\", \"*.jpg\").load(data_dir)\n",
    "print(type(images))"
   ]
  },
  {
   "cell_type": "code",
   "execution_count": null,
   "metadata": {
    "colab": {
     "base_uri": "https://localhost:8080/"
    },
    "id": "fIpI0dx4BHdB",
    "outputId": "e78bc315-cb72-4af1-f175-c0d2b144e1ac"
   },
   "outputs": [],
   "source": [
    "images.show(5)"
   ]
  },
  {
   "cell_type": "code",
   "execution_count": null,
   "metadata": {
    "colab": {
     "base_uri": "https://localhost:8080/"
    },
    "id": "lCL7nq9_BWeK",
    "outputId": "8c1b591f-af1f-4458-f365-37f7da0cac5d"
   },
   "outputs": [],
   "source": [
    "files=images.select('path').rdd.map(lambda x :x.path ).collect()\n",
    "files[0:10]"
   ]
  },
  {
   "cell_type": "code",
   "execution_count": null,
   "metadata": {
    "colab": {
     "base_uri": "https://localhost:8080/"
    },
    "id": "ekKZzpVPha5M",
    "outputId": "771a4033-d91d-4214-d78f-527b1e549f35"
   },
   "outputs": [],
   "source": [
    "\n",
    "def extract_label(path_col):\n",
    "  \"\"\"Extract label from file path using built-in SQL functions.\"\"\"\n",
    "  return regexp_extract(path_col, \"flower_photos/([^/]+)\", 1)\n",
    "\n",
    "def extract_size(content):\n",
    "  \"\"\"Extract image size from its raw content.\"\"\"\n",
    "  image = Image.open(io.BytesIO(content))\n",
    "  return image.size\n",
    "\n",
    "@pandas_udf(\"width: int, height: int\")\n",
    "def extract_size_udf(content_series):\n",
    "  sizes = content_series.apply(extract_size)\n",
    "  return pd.DataFrame(list(sizes))\n",
    "\n",
    "df = images.select(\n",
    "  col(\"path\"),\n",
    "  col(\"modificationTime\"),\n",
    "  extract_label(col(\"path\")).alias(\"label\"),\n",
    "  extract_size_udf(col(\"content\")).alias(\"size\"),\n",
    "  col(\"content\"))\n",
    "\n",
    "\n",
    "df.show(5)\n"
   ]
  },
  {
   "cell_type": "code",
   "execution_count": null,
   "metadata": {
    "colab": {
     "base_uri": "https://localhost:8080/"
    },
    "id": "4xnBLBH6vf_h",
    "outputId": "8310accb-3120-45cb-c00f-bb8fef600bc7"
   },
   "outputs": [],
   "source": [
    "ima=images.select('content').rdd.map(lambda x: x.content).collect()\n",
    "ima[0]"
   ]
  },
  {
   "cell_type": "code",
   "execution_count": null,
   "metadata": {
    "colab": {
     "base_uri": "https://localhost:8080/",
     "height": 458
    },
    "id": "yXMMNfU_wW3Y",
    "outputId": "9a210ce0-c8d9-4e84-e995-d996e7cbda3a"
   },
   "outputs": [],
   "source": [
    "imgg = Image.open(io.BytesIO(ima[0]))\n",
    "imgg"
   ]
  },
  {
   "cell_type": "code",
   "execution_count": null,
   "metadata": {
    "colab": {
     "base_uri": "https://localhost:8080/"
    },
    "id": "eyWEn2Xl2Jbi",
    "outputId": "2e487387-6852-4c15-e1e5-820b30557c5b"
   },
   "outputs": [],
   "source": [
    "len(ima)"
   ]
  },
  {
   "cell_type": "code",
   "execution_count": null,
   "metadata": {
    "id": "jrDuJgc-oO8z"
   },
   "outputs": [],
   "source": [
    "class ImageNetDataset(Dataset):\n",
    "  \"\"\"\n",
    "  Converts image contents into a PyTorch Dataset with standard ImageNet preprocessing.\n",
    "  \"\"\"\n",
    "  def __init__(self, contents):\n",
    "    self.contents = contents\n",
    "\n",
    "  def __len__(self):\n",
    "    \n",
    "    return len(self.contents)\n",
    "\n",
    "  def __getitem__(self, index):\n",
    "    return self._preprocess(self.contents[index])\n",
    "\n",
    "  def _preprocess(self, content):\n",
    "    \"\"\"\n",
    "    Preprocesses the input image content using standard ImageNet normalization.\n",
    "    \n",
    "    See https://pytorch.org/docs/stable/torchvision/models.html.\n",
    "    \"\"\"\n",
    "    image = Image.open(io.BytesIO(content))\n",
    "    transform = transforms.Compose([\n",
    "      transforms.Resize(256),                         ### Smaller lenght is convertd to 256 \n",
    "      transforms.CenterCrop(224),\n",
    "      transforms.ToTensor(),\n",
    "      transforms.Normalize(mean=[0.485, 0.456, 0.406], std=[0.229, 0.224, 0.225]),\n",
    "    ])\n",
    "    return transform(image)"
   ]
  },
  {
   "cell_type": "code",
   "execution_count": null,
   "metadata": {
    "id": "kvHGxWr-oVDC"
   },
   "outputs": [],
   "source": [
    "\n",
    "def imagenet_model_udf():\n",
    "  \"\"\"\n",
    "  Wraps an ImageNet model into a Pandas UDF that makes predictions.\n",
    "  \n",
    "  You might consider the following customizations for your own use case:\n",
    "    - Tune DataLoader's batch_size and num_workers for better performance.\n",
    "    - Use GPU for acceleration.\n",
    "    - Change prediction types.\n",
    "  \"\"\"\n",
    "\n",
    "  model=models.mobilenet_v2(pretrained=True)\n",
    "  model.eval()\n",
    "  def predict(content_series_iter : pd.Series) -> pd.DataFrame:\n",
    "    # model = model_fn() # Once per Map\n",
    "    # model.eval()      # Once Per Map ,model file read from memory\n",
    "    for content_series in content_series_iter:                                                    #Iterates overall all Images \n",
    "      dataset = ImageNetDataset(list(content_series))                                           \n",
    "      loader = DataLoader(dataset, batch_size=64) \n",
    "      with torch.no_grad():\n",
    "        for image_batch in loader:\n",
    "          predictions = model(image_batch).numpy()                                                # Predictions for all 1000 classes of Mobilenetv2 Training Dataset\n",
    "          predicted_labels = [x[0] for x in decode_predictions(predictions, top=1)]                       \n",
    "          yield pd.DataFrame(predicted_labels)\n",
    "    \n",
    "        \n",
    "  return_type = \"class: string, desc: string, score:float\"\n",
    "  # return_type = \"class: string\"                                         # SCALAR_ITER implies the function accepts list/array of scalar values as input.\n",
    "  return pandas_udf(predict,return_type, PandasUDFType.SCALAR_ITER)   \n",
    "  # return pandas_udf(return_type, PandasUDFType.SCALAR_ITER)(predict)   \n",
    "  \n",
    "  #Returns a Predict function object as the final user defined function object.\n",
    "  #Iterates over an Image: A sequence of bytes represented as a 2D array. \n",
    "  #Scalar is a series of bytes.    "
   ]
  },
  {
   "cell_type": "code",
   "execution_count": null,
   "metadata": {
    "colab": {
     "base_uri": "https://localhost:8080/",
     "height": 142,
     "referenced_widgets": [
      "63aaf0c183fc4e3e90efe37180f6831f",
      "270d71a30ff34d0d8fd1f5a75c61dab8",
      "f9a4aae71675492aac4d1190be49686c",
      "cff4bd2f17b04e01bc76daceefed076a",
      "e609b0e303464472a819fd120d6de415",
      "b93f98c7c91641f79e34f12ebcd3b62e",
      "c01fe437166e49d59076873060e8aeb7",
      "a8590cf1dbdd48b5aba7aaac4b629b61",
      "ded5244abcd84d44a8db773eaaffd7e4",
      "9a227b53e7364bedb712cdf8da69b6cc",
      "bb619528a7964b55b837db13641a4f57"
     ]
    },
    "id": "fevQ4pyg0w7P",
    "outputId": "17091417-cf4a-4451-ef17-7e0d7f8c0dc9"
   },
   "outputs": [],
   "source": [
    "# imagenet = imagenet_model_udf(lambda: models.mobilenet_v2(pretrained=True))\n",
    "imagenet = imagenet_model_udf()\n",
    "imagenet"
   ]
  },
  {
   "cell_type": "code",
   "execution_count": null,
   "metadata": {
    "colab": {
     "base_uri": "https://localhost:8080/",
     "height": 35
    },
    "id": "n3llm3H0oa9t",
    "outputId": "a83d98d0-1819-40f6-fa06-1e4efa76a9a2"
   },
   "outputs": [],
   "source": [
    "predictions = df.withColumn(\"prediction\", imagenet(col(\"content\")))\n",
    "display(predictions.select(col(\"path\"), col(\"prediction\")).limit(5))"
   ]
  },
  {
   "cell_type": "code",
   "execution_count": null,
   "metadata": {
    "colab": {
     "base_uri": "https://localhost:8080/"
    },
    "id": "4CQXmwXKykd9",
    "outputId": "f1d0e81f-d530-4181-c536-7cf875ab716e"
   },
   "outputs": [],
   "source": [
    "predictions.select(col(\"label\"),col(\"prediction\")).show(50,truncate=False)"
   ]
  },
  {
   "cell_type": "code",
   "execution_count": null,
   "metadata": {
    "id": "hQJVfz01o_Gh"
   },
   "outputs": [],
   "source": []
  },
  {
   "cell_type": "code",
   "execution_count": null,
   "metadata": {
    "id": "YslyfSMpo_Pz"
   },
   "outputs": [],
   "source": []
  },
  {
   "cell_type": "code",
   "execution_count": null,
   "metadata": {
    "id": "DXjT2xFho_RO"
   },
   "outputs": [],
   "source": []
  },
  {
   "cell_type": "markdown",
   "metadata": {
    "id": "wh0u3KBXo__S"
   },
   "source": [
    "Experimental Code Cells\n"
   ]
  },
  {
   "cell_type": "code",
   "execution_count": null,
   "metadata": {
    "colab": {
     "base_uri": "https://localhost:8080/"
    },
    "id": "alNOOcVpNHre",
    "outputId": "7dfb20b1-5a44-4668-df64-24f96f895973"
   },
   "outputs": [],
   "source": [
    "cont_series= list(df.select('content').rdd.map(lambda x: x.content).collect())\n",
    "print(cont_series[0])"
   ]
  },
  {
   "cell_type": "code",
   "execution_count": null,
   "metadata": {
    "id": "rn6omt6LVwef"
   },
   "outputs": [],
   "source": [
    "# for  i in cont_series:\n",
    "\n",
    "dataset = ImageNetDataset([cont_series[0]])             \n",
    "loader = DataLoader(dataset, batch_size=64) \n",
    "  "
   ]
  },
  {
   "cell_type": "code",
   "execution_count": null,
   "metadata": {
    "colab": {
     "base_uri": "https://localhost:8080/"
    },
    "id": "DZMELMqDOOEi",
    "outputId": "d891c4b5-9149-4bad-e830-ad13071fa929"
   },
   "outputs": [],
   "source": [
    "for i in loader:\n",
    "  print(i.shape)\n",
    "# t=iter(loader)\n",
    "# import matplotlib.pyplot as plt \n",
    "# plt.figure()\n",
    "# plt.imshow(first[0,0].numpy())\n"
   ]
  },
  {
   "cell_type": "code",
   "execution_count": null,
   "metadata": {
    "colab": {
     "base_uri": "https://localhost:8080/"
    },
    "id": "PI-BVi2wOQ80",
    "outputId": "43217043-72bd-4805-cbf3-f30d5bec7303"
   },
   "outputs": [],
   "source": [
    "model =models.mobilenet_v2(pretrained=True)\n",
    "model.eval()\n",
    "\n",
    "c=0\n",
    "with torch.no_grad():\n",
    "    for image_batch in loader:\n",
    "      predictions = model(image_batch).numpy()\n",
    "      predicted_labels = [x for x in decode_predictions(predictions, top=1)]  \n",
    "      print(predicted_labels)\n",
    "      c+=1\n",
    "      if c==5:\n",
    "        break\n"
   ]
  },
  {
   "cell_type": "markdown",
   "metadata": {
    "id": "mDYtTN0T8lVF"
   },
   "source": [
    "https://towardsdatascience.com/review-mobilenetv2-light-weight-model-image-classification-8febb490e61c "
   ]
  },
  {
   "cell_type": "code",
   "execution_count": null,
   "metadata": {
    "id": "eTL3yADW8mWN"
   },
   "outputs": [],
   "source": []
  }
 ],
 "metadata": {
  "accelerator": "GPU",
  "colab": {
   "collapsed_sections": [],
   "name": "DL.ipynb",
   "provenance": []
  },
  "kernelspec": {
   "display_name": "Python 3 (ipykernel)",
   "language": "python",
   "name": "python3"
  },
  "language_info": {
   "codemirror_mode": {
    "name": "ipython",
    "version": 3
   },
   "file_extension": ".py",
   "mimetype": "text/x-python",
   "name": "python",
   "nbconvert_exporter": "python",
   "pygments_lexer": "ipython3",
   "version": "3.10.6"
  },
  "widgets": {
   "application/vnd.jupyter.widget-state+json": {
    "270d71a30ff34d0d8fd1f5a75c61dab8": {
     "model_module": "@jupyter-widgets/controls",
     "model_module_version": "1.5.0",
     "model_name": "HTMLModel",
     "state": {
      "_dom_classes": [],
      "_model_module": "@jupyter-widgets/controls",
      "_model_module_version": "1.5.0",
      "_model_name": "HTMLModel",
      "_view_count": null,
      "_view_module": "@jupyter-widgets/controls",
      "_view_module_version": "1.5.0",
      "_view_name": "HTMLView",
      "description": "",
      "description_tooltip": null,
      "layout": "IPY_MODEL_b93f98c7c91641f79e34f12ebcd3b62e",
      "placeholder": "​",
      "style": "IPY_MODEL_c01fe437166e49d59076873060e8aeb7",
      "value": "100%"
     }
    },
    "63aaf0c183fc4e3e90efe37180f6831f": {
     "model_module": "@jupyter-widgets/controls",
     "model_module_version": "1.5.0",
     "model_name": "HBoxModel",
     "state": {
      "_dom_classes": [],
      "_model_module": "@jupyter-widgets/controls",
      "_model_module_version": "1.5.0",
      "_model_name": "HBoxModel",
      "_view_count": null,
      "_view_module": "@jupyter-widgets/controls",
      "_view_module_version": "1.5.0",
      "_view_name": "HBoxView",
      "box_style": "",
      "children": [
       "IPY_MODEL_270d71a30ff34d0d8fd1f5a75c61dab8",
       "IPY_MODEL_f9a4aae71675492aac4d1190be49686c",
       "IPY_MODEL_cff4bd2f17b04e01bc76daceefed076a"
      ],
      "layout": "IPY_MODEL_e609b0e303464472a819fd120d6de415"
     }
    },
    "9a227b53e7364bedb712cdf8da69b6cc": {
     "model_module": "@jupyter-widgets/base",
     "model_module_version": "1.2.0",
     "model_name": "LayoutModel",
     "state": {
      "_model_module": "@jupyter-widgets/base",
      "_model_module_version": "1.2.0",
      "_model_name": "LayoutModel",
      "_view_count": null,
      "_view_module": "@jupyter-widgets/base",
      "_view_module_version": "1.2.0",
      "_view_name": "LayoutView",
      "align_content": null,
      "align_items": null,
      "align_self": null,
      "border": null,
      "bottom": null,
      "display": null,
      "flex": null,
      "flex_flow": null,
      "grid_area": null,
      "grid_auto_columns": null,
      "grid_auto_flow": null,
      "grid_auto_rows": null,
      "grid_column": null,
      "grid_gap": null,
      "grid_row": null,
      "grid_template_areas": null,
      "grid_template_columns": null,
      "grid_template_rows": null,
      "height": null,
      "justify_content": null,
      "justify_items": null,
      "left": null,
      "margin": null,
      "max_height": null,
      "max_width": null,
      "min_height": null,
      "min_width": null,
      "object_fit": null,
      "object_position": null,
      "order": null,
      "overflow": null,
      "overflow_x": null,
      "overflow_y": null,
      "padding": null,
      "right": null,
      "top": null,
      "visibility": null,
      "width": null
     }
    },
    "a8590cf1dbdd48b5aba7aaac4b629b61": {
     "model_module": "@jupyter-widgets/base",
     "model_module_version": "1.2.0",
     "model_name": "LayoutModel",
     "state": {
      "_model_module": "@jupyter-widgets/base",
      "_model_module_version": "1.2.0",
      "_model_name": "LayoutModel",
      "_view_count": null,
      "_view_module": "@jupyter-widgets/base",
      "_view_module_version": "1.2.0",
      "_view_name": "LayoutView",
      "align_content": null,
      "align_items": null,
      "align_self": null,
      "border": null,
      "bottom": null,
      "display": null,
      "flex": null,
      "flex_flow": null,
      "grid_area": null,
      "grid_auto_columns": null,
      "grid_auto_flow": null,
      "grid_auto_rows": null,
      "grid_column": null,
      "grid_gap": null,
      "grid_row": null,
      "grid_template_areas": null,
      "grid_template_columns": null,
      "grid_template_rows": null,
      "height": null,
      "justify_content": null,
      "justify_items": null,
      "left": null,
      "margin": null,
      "max_height": null,
      "max_width": null,
      "min_height": null,
      "min_width": null,
      "object_fit": null,
      "object_position": null,
      "order": null,
      "overflow": null,
      "overflow_x": null,
      "overflow_y": null,
      "padding": null,
      "right": null,
      "top": null,
      "visibility": null,
      "width": null
     }
    },
    "b93f98c7c91641f79e34f12ebcd3b62e": {
     "model_module": "@jupyter-widgets/base",
     "model_module_version": "1.2.0",
     "model_name": "LayoutModel",
     "state": {
      "_model_module": "@jupyter-widgets/base",
      "_model_module_version": "1.2.0",
      "_model_name": "LayoutModel",
      "_view_count": null,
      "_view_module": "@jupyter-widgets/base",
      "_view_module_version": "1.2.0",
      "_view_name": "LayoutView",
      "align_content": null,
      "align_items": null,
      "align_self": null,
      "border": null,
      "bottom": null,
      "display": null,
      "flex": null,
      "flex_flow": null,
      "grid_area": null,
      "grid_auto_columns": null,
      "grid_auto_flow": null,
      "grid_auto_rows": null,
      "grid_column": null,
      "grid_gap": null,
      "grid_row": null,
      "grid_template_areas": null,
      "grid_template_columns": null,
      "grid_template_rows": null,
      "height": null,
      "justify_content": null,
      "justify_items": null,
      "left": null,
      "margin": null,
      "max_height": null,
      "max_width": null,
      "min_height": null,
      "min_width": null,
      "object_fit": null,
      "object_position": null,
      "order": null,
      "overflow": null,
      "overflow_x": null,
      "overflow_y": null,
      "padding": null,
      "right": null,
      "top": null,
      "visibility": null,
      "width": null
     }
    },
    "bb619528a7964b55b837db13641a4f57": {
     "model_module": "@jupyter-widgets/controls",
     "model_module_version": "1.5.0",
     "model_name": "DescriptionStyleModel",
     "state": {
      "_model_module": "@jupyter-widgets/controls",
      "_model_module_version": "1.5.0",
      "_model_name": "DescriptionStyleModel",
      "_view_count": null,
      "_view_module": "@jupyter-widgets/base",
      "_view_module_version": "1.2.0",
      "_view_name": "StyleView",
      "description_width": ""
     }
    },
    "c01fe437166e49d59076873060e8aeb7": {
     "model_module": "@jupyter-widgets/controls",
     "model_module_version": "1.5.0",
     "model_name": "DescriptionStyleModel",
     "state": {
      "_model_module": "@jupyter-widgets/controls",
      "_model_module_version": "1.5.0",
      "_model_name": "DescriptionStyleModel",
      "_view_count": null,
      "_view_module": "@jupyter-widgets/base",
      "_view_module_version": "1.2.0",
      "_view_name": "StyleView",
      "description_width": ""
     }
    },
    "cff4bd2f17b04e01bc76daceefed076a": {
     "model_module": "@jupyter-widgets/controls",
     "model_module_version": "1.5.0",
     "model_name": "HTMLModel",
     "state": {
      "_dom_classes": [],
      "_model_module": "@jupyter-widgets/controls",
      "_model_module_version": "1.5.0",
      "_model_name": "HTMLModel",
      "_view_count": null,
      "_view_module": "@jupyter-widgets/controls",
      "_view_module_version": "1.5.0",
      "_view_name": "HTMLView",
      "description": "",
      "description_tooltip": null,
      "layout": "IPY_MODEL_9a227b53e7364bedb712cdf8da69b6cc",
      "placeholder": "​",
      "style": "IPY_MODEL_bb619528a7964b55b837db13641a4f57",
      "value": " 13.6M/13.6M [00:00&lt;00:00, 32.8MB/s]"
     }
    },
    "ded5244abcd84d44a8db773eaaffd7e4": {
     "model_module": "@jupyter-widgets/controls",
     "model_module_version": "1.5.0",
     "model_name": "ProgressStyleModel",
     "state": {
      "_model_module": "@jupyter-widgets/controls",
      "_model_module_version": "1.5.0",
      "_model_name": "ProgressStyleModel",
      "_view_count": null,
      "_view_module": "@jupyter-widgets/base",
      "_view_module_version": "1.2.0",
      "_view_name": "StyleView",
      "bar_color": null,
      "description_width": ""
     }
    },
    "e609b0e303464472a819fd120d6de415": {
     "model_module": "@jupyter-widgets/base",
     "model_module_version": "1.2.0",
     "model_name": "LayoutModel",
     "state": {
      "_model_module": "@jupyter-widgets/base",
      "_model_module_version": "1.2.0",
      "_model_name": "LayoutModel",
      "_view_count": null,
      "_view_module": "@jupyter-widgets/base",
      "_view_module_version": "1.2.0",
      "_view_name": "LayoutView",
      "align_content": null,
      "align_items": null,
      "align_self": null,
      "border": null,
      "bottom": null,
      "display": null,
      "flex": null,
      "flex_flow": null,
      "grid_area": null,
      "grid_auto_columns": null,
      "grid_auto_flow": null,
      "grid_auto_rows": null,
      "grid_column": null,
      "grid_gap": null,
      "grid_row": null,
      "grid_template_areas": null,
      "grid_template_columns": null,
      "grid_template_rows": null,
      "height": null,
      "justify_content": null,
      "justify_items": null,
      "left": null,
      "margin": null,
      "max_height": null,
      "max_width": null,
      "min_height": null,
      "min_width": null,
      "object_fit": null,
      "object_position": null,
      "order": null,
      "overflow": null,
      "overflow_x": null,
      "overflow_y": null,
      "padding": null,
      "right": null,
      "top": null,
      "visibility": null,
      "width": null
     }
    },
    "f9a4aae71675492aac4d1190be49686c": {
     "model_module": "@jupyter-widgets/controls",
     "model_module_version": "1.5.0",
     "model_name": "FloatProgressModel",
     "state": {
      "_dom_classes": [],
      "_model_module": "@jupyter-widgets/controls",
      "_model_module_version": "1.5.0",
      "_model_name": "FloatProgressModel",
      "_view_count": null,
      "_view_module": "@jupyter-widgets/controls",
      "_view_module_version": "1.5.0",
      "_view_name": "ProgressView",
      "bar_style": "success",
      "description": "",
      "description_tooltip": null,
      "layout": "IPY_MODEL_a8590cf1dbdd48b5aba7aaac4b629b61",
      "max": 14212972,
      "min": 0,
      "orientation": "horizontal",
      "style": "IPY_MODEL_ded5244abcd84d44a8db773eaaffd7e4",
      "value": 14212972
     }
    }
   }
  }
 },
 "nbformat": 4,
 "nbformat_minor": 1
}