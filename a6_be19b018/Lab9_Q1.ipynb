{
  "cells": [
    {
      "cell_type": "code",
      "execution_count": 3,
      "id": "LCeqieY9gkDy",
      "metadata": {
        "id": "LCeqieY9gkDy"
      },
      "outputs": [],
      "source": [
        "from pyspark.context import SparkContext\n",
        "from pyspark.sql.session import SparkSession\n",
        "from pyspark.ml.feature import StringIndexer, VectorAssembler, StandardScaler, Normalizer\n",
        "from pyspark.ml.classification import LogisticRegression, RandomForestClassifier, DecisionTreeClassifier\n",
        "from pyspark.ml import Pipeline\n",
        "from pyspark.ml.evaluation import MulticlassClassificationEvaluator"
      ]
    },
    {
      "cell_type": "code",
      "execution_count": 4,
      "id": "7dbbfcee-e602-457f-9aaa-ac5dc7972d7d",
      "metadata": {
        "id": "7dbbfcee-e602-457f-9aaa-ac5dc7972d7d"
      },
      "outputs": [],
      "source": [
        "sc = SparkContext()\n",
        "spark = SparkSession(sc)"
      ]
    },
    {
      "cell_type": "code",
      "execution_count": 6,
      "id": "841094dc-7964-4d8e-b644-377550b0f3ec",
      "metadata": {
        "id": "841094dc-7964-4d8e-b644-377550b0f3ec"
      },
      "outputs": [],
      "source": [
        "file_location =\"gs://dataproc-staging-us-central1-820790181286-dl4jzwmr/diabetes.csv\"\n",
        "df = spark.read.format(\"csv\").option(\"header\",\n",
        "True).load(file_location).toDF(\"Pregnancies\", \"Glucose\", \"BloodPressure\",\n",
        "\"SkinThickness\", \"Insulin\", \"BMI\",\"DiabetesPedigreeFunction\",\"Age\",\"Outcome\")"
      ]
    },
    {
      "cell_type": "code",
      "execution_count": 7,
      "id": "b560c778-8e12-4ced-9759-de16974ab0d8",
      "metadata": {
        "id": "b560c778-8e12-4ced-9759-de16974ab0d8"
      },
      "outputs": [],
      "source": [
        "#Convert the columns from string datatypes to their respective datatypes\n",
        "df = df.withColumn(\"Pregnancies\",\n",
        "df[\"Pregnancies\"].cast(\"integer\")).withColumn(\"Glucose\",\n",
        "df[\"Glucose\"].cast(\"float\")).withColumn(\"BloodPressure\",\n",
        "df[\"BloodPressure\"].cast(\"integer\")).withColumn(\"SkinThickness\",\n",
        "df[\"SkinThickness\"].cast(\"float\")).withColumn('Insulin',df['Insulin'].cast('integer')).withColumn('BMI',df['BMI'].cast('float')).withColumn('DiabetesPedigreeFunction',\n",
        "df['DiabetesPedigreeFunction'].cast('integer')).withColumn('Age',\n",
        "df['Age'].cast('integer'))"
      ]
    },
    {
      "cell_type": "code",
      "execution_count": 8,
      "id": "749b7070-d6a8-4226-b571-4974708b4d87",
      "metadata": {
        "colab": {
          "base_uri": "https://localhost:8080/"
        },
        "id": "749b7070-d6a8-4226-b571-4974708b4d87",
        "outputId": "555ddbff-03e6-42f6-d621-c580ee11bdaa"
      },
      "outputs": [
        {
          "name": "stdout",
          "output_type": "stream",
          "text": [
            "+-----------+-------+-------------+-------------+-------+----+------------------------+---+-------+\n",
            "|Pregnancies|Glucose|BloodPressure|SkinThickness|Insulin| BMI|DiabetesPedigreeFunction|Age|Outcome|\n",
            "+-----------+-------+-------------+-------------+-------+----+------------------------+---+-------+\n",
            "|          6|  148.0|           72|         35.0|      0|33.6|                       0| 50|      1|\n",
            "|          1|   85.0|           66|         29.0|      0|26.6|                       0| 31|      0|\n",
            "|          8|  183.0|           64|          0.0|      0|23.3|                       0| 32|      1|\n",
            "|          1|   89.0|           66|         23.0|     94|28.1|                       0| 21|      0|\n",
            "|          0|  137.0|           40|         35.0|    168|43.1|                       2| 33|      1|\n",
            "|          5|  116.0|           74|          0.0|      0|25.6|                       0| 30|      0|\n",
            "|          3|   78.0|           50|         32.0|     88|31.0|                       0| 26|      1|\n",
            "|         10|  115.0|            0|          0.0|      0|35.3|                       0| 29|      0|\n",
            "|          2|  197.0|           70|         45.0|    543|30.5|                       0| 53|      1|\n",
            "|          8|  125.0|           96|          0.0|      0| 0.0|                       0| 54|      1|\n",
            "|          4|  110.0|           92|          0.0|      0|37.6|                       0| 30|      0|\n",
            "|         10|  168.0|           74|          0.0|      0|38.0|                       0| 34|      1|\n",
            "|         10|  139.0|           80|          0.0|      0|27.1|                       1| 57|      0|\n",
            "|          1|  189.0|           60|         23.0|    846|30.1|                       0| 59|      1|\n",
            "|          5|  166.0|           72|         19.0|    175|25.8|                       0| 51|      1|\n",
            "|          7|  100.0|            0|          0.0|      0|30.0|                       0| 32|      1|\n",
            "|          0|  118.0|           84|         47.0|    230|45.8|                       0| 31|      1|\n",
            "|          7|  107.0|           74|          0.0|      0|29.6|                       0| 31|      1|\n",
            "|          1|  103.0|           30|         38.0|     83|43.3|                       0| 33|      0|\n",
            "|          1|  115.0|           70|         30.0|     96|34.6|                       0| 32|      1|\n",
            "+-----------+-------+-------------+-------------+-------+----+------------------------+---+-------+\n",
            "only showing top 20 rows\n",
            "\n"
          ]
        }
      ],
      "source": [
        "df.show()"
      ]
    },
    {
      "cell_type": "code",
      "execution_count": 9,
      "id": "9809c1dc-6533-4c45-b2b9-dddd85b53565",
      "metadata": {
        "id": "9809c1dc-6533-4c45-b2b9-dddd85b53565"
      },
      "outputs": [],
      "source": [
        "input_df = df.drop('Outcome').columns"
      ]
    },
    {
      "cell_type": "code",
      "execution_count": 10,
      "id": "62056dad-2444-4cd8-9bbb-49331a428f44",
      "metadata": {
        "id": "62056dad-2444-4cd8-9bbb-49331a428f44"
      },
      "outputs": [],
      "source": [
        "assembler = VectorAssembler(inputCols=input_df, outputCol = 'features')\n",
        "labelIndexer = StringIndexer(inputCol=\"Outcome\", outputCol=\"indexedLabel\").fit(df)"
      ]
    },
    {
      "cell_type": "code",
      "execution_count": 11,
      "id": "1339e8e7-30e1-478f-a364-d2fdf5b136de",
      "metadata": {
        "id": "1339e8e7-30e1-478f-a364-d2fdf5b136de"
      },
      "outputs": [],
      "source": [
        "scaler_ss = StandardScaler(inputCol=\"features\", outputCol=\"scaledFeatures\", withStd=False, withMean=True)\n",
        "scaler = Normalizer(inputCol=\"features\", outputCol=\"scaledFeatures\")"
      ]
    },
    {
      "cell_type": "code",
      "execution_count": 12,
      "id": "831f4d7e-5bd9-4711-8c39-502ca92c1de8",
      "metadata": {
        "id": "831f4d7e-5bd9-4711-8c39-502ca92c1de8"
      },
      "outputs": [],
      "source": [
        "rf = RandomForestClassifier(labelCol=\"indexedLabel\", featuresCol=\"scaledFeatures\", numTrees=10)\n",
        "lr = LogisticRegression(labelCol=\"indexedLabel\", featuresCol=\"scaledFeatures\")\n",
        "dtc = DecisionTreeClassifier(labelCol=\"indexedLabel\", featuresCol=\"scaledFeatures\")"
      ]
    },
    {
      "cell_type": "markdown",
      "id": "_Gc4z_zkhyV5",
      "metadata": {
        "id": "_Gc4z_zkhyV5"
      },
      "source": [
        "## Using Normalizer"
      ]
    },
    {
      "cell_type": "code",
      "execution_count": null,
      "id": "49dd1f23-30b1-474e-b37d-36d24916eb4b",
      "metadata": {
        "id": "49dd1f23-30b1-474e-b37d-36d24916eb4b"
      },
      "outputs": [],
      "source": [
        "pipeline_lr = Pipeline(stages=[labelIndexer, assembler,scaler,lr])"
      ]
    },
    {
      "cell_type": "code",
      "execution_count": null,
      "id": "b8ae2747-f05f-4bb0-92b7-57c9092cf32d",
      "metadata": {
        "id": "b8ae2747-f05f-4bb0-92b7-57c9092cf32d",
        "outputId": "c71045df-1967-4f6a-bdbe-7b058c10409b"
      },
      "outputs": [
        {
          "name": "stderr",
          "output_type": "stream",
          "text": [
            "23/04/06 06:52:12 WARN com.github.fommil.netlib.BLAS: Failed to load implementation from: com.github.fommil.netlib.NativeSystemBLAS\n",
            "23/04/06 06:52:12 WARN com.github.fommil.netlib.BLAS: Failed to load implementation from: com.github.fommil.netlib.NativeRefBLAS\n"
          ]
        }
      ],
      "source": [
        "(trainingData, testData) = df.randomSplit([0.8, 0.2])\n",
        "model = pipeline_lr.fit(trainingData)"
      ]
    },
    {
      "cell_type": "code",
      "execution_count": null,
      "id": "b52c6183-0ee8-4a29-8a75-3a67943e70e3",
      "metadata": {
        "id": "b52c6183-0ee8-4a29-8a75-3a67943e70e3",
        "outputId": "1483592a-5870-4835-cabb-f7efab970451"
      },
      "outputs": [
        {
          "name": "stdout",
          "output_type": "stream",
          "text": [
            "Test set accuracy for logistic regression  = 0.611842\n"
          ]
        }
      ],
      "source": [
        "predictions = model.transform(testData)\n",
        "evaluator = MulticlassClassificationEvaluator(labelCol=\"indexedLabel\", predictionCol=\"prediction\", metricName=\"accuracy\")\n",
        "accuracy = evaluator.evaluate(predictions)\n",
        "print(\"Test set accuracy for logistic regression  = %g\" % (accuracy))"
      ]
    },
    {
      "cell_type": "code",
      "execution_count": null,
      "id": "973e401a-f812-4ef5-aa05-84b74dec2a00",
      "metadata": {
        "id": "973e401a-f812-4ef5-aa05-84b74dec2a00"
      },
      "outputs": [],
      "source": [
        "pipeline_rf = Pipeline(stages=[labelIndexer, assembler,scaler, rf])\n",
        "pipeline_dtc = Pipeline(stages=[labelIndexer, assembler,scaler, dtc])"
      ]
    },
    {
      "cell_type": "code",
      "execution_count": null,
      "id": "e00cfd83-45ec-411b-bb4e-7fa68a5be525",
      "metadata": {
        "id": "e00cfd83-45ec-411b-bb4e-7fa68a5be525"
      },
      "outputs": [],
      "source": [
        "model_rf = pipeline_rf.fit(trainingData)\n",
        "model_dtc = pipeline_dtc.fit(trainingData)"
      ]
    },
    {
      "cell_type": "code",
      "execution_count": null,
      "id": "9b9ecbf7-9672-4660-9b23-1e0b3f970c70",
      "metadata": {
        "id": "9b9ecbf7-9672-4660-9b23-1e0b3f970c70",
        "outputId": "0d3d8c13-f03f-4035-ec16-9822c7e9913f"
      },
      "outputs": [
        {
          "name": "stdout",
          "output_type": "stream",
          "text": [
            "Test set accuracy for Random Forest Classifier  = 0.657895\n"
          ]
        }
      ],
      "source": [
        "predictions = model_rf.transform(testData)\n",
        "evaluator = MulticlassClassificationEvaluator(labelCol=\"indexedLabel\", predictionCol=\"prediction\", metricName=\"accuracy\")\n",
        "accuracy = evaluator.evaluate(predictions)\n",
        "print(\"Test set accuracy for Random Forest Classifier  = %g\" % (accuracy))"
      ]
    },
    {
      "cell_type": "code",
      "execution_count": null,
      "id": "887f65ad-9fe4-423a-868d-7930814c2fd8",
      "metadata": {
        "id": "887f65ad-9fe4-423a-868d-7930814c2fd8",
        "outputId": "1ef06a7a-2e6c-40df-f025-b649bd5d69ed"
      },
      "outputs": [
        {
          "name": "stdout",
          "output_type": "stream",
          "text": [
            "Test set accuracy for Decision Tree Classifier  = 0.644737\n"
          ]
        }
      ],
      "source": [
        "predictions = model_dtc.transform(testData)\n",
        "evaluator = MulticlassClassificationEvaluator(labelCol=\"indexedLabel\", predictionCol=\"prediction\", metricName=\"accuracy\")\n",
        "accuracy = evaluator.evaluate(predictions)\n",
        "print(\"Test set accuracy for Decision Tree Classifier  = %g\" % (accuracy))"
      ]
    },
    {
      "cell_type": "markdown",
      "id": "U3UZ-ed_h0y8",
      "metadata": {
        "id": "U3UZ-ed_h0y8"
      },
      "source": [
        "## Using Standard Scaler"
      ]
    },
    {
      "cell_type": "code",
      "execution_count": 13,
      "id": "699ff042-1a02-48cc-bece-048695d1d643",
      "metadata": {
        "id": "699ff042-1a02-48cc-bece-048695d1d643"
      },
      "outputs": [],
      "source": [
        "pipeline_lr = Pipeline(stages=[labelIndexer, assembler,scaler_ss,lr])\n",
        "(trainingData, testData) = df.randomSplit([0.8, 0.2])\n",
        "model = pipeline_lr.fit(trainingData)"
      ]
    },
    {
      "cell_type": "code",
      "execution_count": 14,
      "id": "ju4hAZjbiC6-",
      "metadata": {
        "colab": {
          "base_uri": "https://localhost:8080/"
        },
        "id": "ju4hAZjbiC6-",
        "outputId": "1e496edf-09f4-426f-b4b7-51a8875bc866"
      },
      "outputs": [
        {
          "name": "stdout",
          "output_type": "stream",
          "text": [
            "Test set accuracy for logistic regression  = 0.793333\n"
          ]
        }
      ],
      "source": [
        "predictions = model.transform(testData)\n",
        "evaluator = MulticlassClassificationEvaluator(labelCol=\"indexedLabel\", predictionCol=\"prediction\", metricName=\"accuracy\")\n",
        "accuracy = evaluator.evaluate(predictions)\n",
        "print(\"Test set accuracy for logistic regression  = %g\" % (accuracy))"
      ]
    },
    {
      "cell_type": "code",
      "execution_count": 15,
      "id": "4bql9oXMiHdF",
      "metadata": {
        "id": "4bql9oXMiHdF"
      },
      "outputs": [],
      "source": [
        "pipeline_rf = Pipeline(stages=[labelIndexer, assembler,scaler_ss, rf])\n",
        "pipeline_dtc = Pipeline(stages=[labelIndexer, assembler,scaler_ss, dtc])\n",
        "\n",
        "model_rf = pipeline_rf.fit(trainingData)\n",
        "model_dtc = pipeline_dtc.fit(trainingData)"
      ]
    },
    {
      "cell_type": "code",
      "execution_count": 16,
      "id": "mtqTSKd6iOSy",
      "metadata": {
        "colab": {
          "base_uri": "https://localhost:8080/"
        },
        "id": "mtqTSKd6iOSy",
        "outputId": "bdb5c09b-9a08-4372-85a3-01b5a689207f"
      },
      "outputs": [
        {
          "name": "stdout",
          "output_type": "stream",
          "text": [
            "Test set accuracy for Random Forest Classifier  = 0.786667\n"
          ]
        }
      ],
      "source": [
        "predictions = model_rf.transform(testData)\n",
        "evaluator = MulticlassClassificationEvaluator(labelCol=\"indexedLabel\", predictionCol=\"prediction\", metricName=\"accuracy\")\n",
        "accuracy = evaluator.evaluate(predictions)\n",
        "print(\"Test set accuracy for Random Forest Classifier  = %g\" % (accuracy))"
      ]
    },
    {
      "cell_type": "code",
      "execution_count": 17,
      "id": "4WPPjGEFiRzx",
      "metadata": {
        "colab": {
          "base_uri": "https://localhost:8080/"
        },
        "id": "4WPPjGEFiRzx",
        "outputId": "824cc883-64bf-45a9-9b6f-0224fc7582b2"
      },
      "outputs": [
        {
          "name": "stdout",
          "output_type": "stream",
          "text": [
            "Test set accuracy for Decision Tree Classifier  = 0.713333\n"
          ]
        }
      ],
      "source": [
        "predictions = model_dtc.transform(testData)\n",
        "evaluator = MulticlassClassificationEvaluator(labelCol=\"indexedLabel\", predictionCol=\"prediction\", metricName=\"accuracy\")\n",
        "accuracy = evaluator.evaluate(predictions)\n",
        "print(\"Test set accuracy for Decision Tree Classifier  = %g\" % (accuracy))"
      ]
    },
    {
      "cell_type": "code",
      "execution_count": null,
      "id": "2uRumeApiUPU",
      "metadata": {
        "id": "2uRumeApiUPU"
      },
      "outputs": [],
      "source": []
    }
  ],
  "metadata": {
    "colab": {
      "provenance": []
    },
    "kernelspec": {
      "display_name": "Python 3 (ipykernel)",
      "language": "python",
      "name": "python3"
    },
    "language_info": {
      "codemirror_mode": {
        "name": "ipython",
        "version": 3
      },
      "file_extension": ".py",
      "mimetype": "text/x-python",
      "name": "python",
      "nbconvert_exporter": "python",
      "pygments_lexer": "ipython3",
      "version": "3.9.7"
    }
  },
  "nbformat": 4,
  "nbformat_minor": 5
}
